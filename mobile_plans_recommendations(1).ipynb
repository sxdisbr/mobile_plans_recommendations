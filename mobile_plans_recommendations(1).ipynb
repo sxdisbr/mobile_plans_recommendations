{
 "cells": [
  {
   "cell_type": "markdown",
   "id": "1ce69384",
   "metadata": {},
   "source": [
    "# Mobile Plans Recommendations"
   ]
  },
  {
   "cell_type": "markdown",
   "id": "a91da024",
   "metadata": {},
   "source": [
    "The data shows the behavior of customers who have already switched to a specific mobile plan. The task is to build a model that will choose the appropiate plan. The preprocessng data phase is already done. The objective is to buid a model with the maximum accuracy value. The desire value is at least 0.75. "
   ]
  },
  {
   "cell_type": "markdown",
   "id": "8b42966e",
   "metadata": {},
   "source": [
    "# Data Overview"
   ]
  },
  {
   "cell_type": "markdown",
   "id": "b7c0294f",
   "metadata": {},
   "source": [
    "First, we import the libraries that we are going to use."
   ]
  },
  {
   "cell_type": "code",
   "execution_count": 1,
   "id": "49a7093b",
   "metadata": {},
   "outputs": [],
   "source": [
    "import pandas as pd\n",
    "from sklearn.ensemble import RandomForestClassifier\n",
    "from sklearn.model_selection import train_test_split\n",
    "from sklearn.tree import DecisionTreeClassifier\n",
    "from sklearn.metrics import accuracy_score\n",
    "from sklearn.tree import DecisionTreeRegressor\n",
    "from sklearn.dummy import DummyClassifier"
   ]
  },
  {
   "cell_type": "code",
   "execution_count": 2,
   "id": "abc77dff",
   "metadata": {},
   "outputs": [],
   "source": [
    "df=pd.read_csv(r'C:\\Users\\pinos\\Desktop\\statistics\\users_behavior.csv')"
   ]
  },
  {
   "cell_type": "markdown",
   "id": "8f70d2fc",
   "metadata": {},
   "source": [
    "Overview of the data types we have."
   ]
  },
  {
   "cell_type": "code",
   "execution_count": 3,
   "id": "bec309c0",
   "metadata": {},
   "outputs": [
    {
     "name": "stdout",
     "output_type": "stream",
     "text": [
      "<class 'pandas.core.frame.DataFrame'>\n",
      "RangeIndex: 3214 entries, 0 to 3213\n",
      "Data columns (total 5 columns):\n",
      " #   Column    Non-Null Count  Dtype  \n",
      "---  ------    --------------  -----  \n",
      " 0   calls     3214 non-null   float64\n",
      " 1   minutes   3214 non-null   float64\n",
      " 2   messages  3214 non-null   float64\n",
      " 3   mb_used   3214 non-null   float64\n",
      " 4   is_ultra  3214 non-null   int64  \n",
      "dtypes: float64(4), int64(1)\n",
      "memory usage: 125.6 KB\n"
     ]
    }
   ],
   "source": [
    "df.info()"
   ]
  },
  {
   "cell_type": "markdown",
   "id": "042ad520",
   "metadata": {},
   "source": [
    "We see that the calls and messages variables should be of type int, not float, so we're going to change them to the correct type. The is_ultra column, despite being essentially a category, is encoded with zeros and ones, so we're leaving it that way."
   ]
  },
  {
   "cell_type": "code",
   "execution_count": 4,
   "id": "d99e32c1",
   "metadata": {},
   "outputs": [],
   "source": [
    "df['calls'] = df['calls'].astype('int')"
   ]
  },
  {
   "cell_type": "code",
   "execution_count": 5,
   "id": "82b7fe30",
   "metadata": {},
   "outputs": [],
   "source": [
    "df['messages'] = df['messages'].astype('int')"
   ]
  },
  {
   "cell_type": "markdown",
   "id": "1332c939",
   "metadata": {},
   "source": [
    "# Data Samples"
   ]
  },
  {
   "cell_type": "markdown",
   "id": "50f26ba3",
   "metadata": {},
   "source": [
    "We divide the data into 3 samples: training, validation and test."
   ]
  },
  {
   "cell_type": "code",
   "execution_count": 6,
   "id": "3074fdea",
   "metadata": {},
   "outputs": [],
   "source": [
    "df_train, df_valid_test = train_test_split(\n",
    "    \n",
    "    df, test_size=0.25, \n",
    "    \n",
    "    random_state=12345)\n",
    "\n",
    "df_valid, df_test = train_test_split(\n",
    "    \n",
    "    df_valid_test, \n",
    "    \n",
    "    test_size=0.5, \n",
    "    \n",
    "    random_state=12345)\n"
   ]
  },
  {
   "cell_type": "code",
   "execution_count": 7,
   "id": "2bc89cba",
   "metadata": {},
   "outputs": [],
   "source": [
    "features_train = df_train.drop(['is_ultra','calls'], axis=1)\n",
    "\n",
    "target_train = df_train['is_ultra']\n",
    "\n",
    "features_valid = df_valid.drop(['is_ultra','calls'], axis=1)\n",
    "\n",
    "target_valid = df_valid['is_ultra']\n",
    "\n",
    "features_test = df_test.drop(['is_ultra','calls'], axis=1)\n",
    "\n",
    "target_test = df_test['is_ultra']\n"
   ]
  },
  {
   "cell_type": "markdown",
   "id": "fd8dec8a",
   "metadata": {},
   "source": [
    "# Exploring Models"
   ]
  },
  {
   "cell_type": "markdown",
   "id": "2f9419a2",
   "metadata": {},
   "source": [
    "Two models to consider here: decision tree and random forest."
   ]
  },
  {
   "cell_type": "code",
   "execution_count": 9,
   "id": "9e8b0b02",
   "metadata": {},
   "outputs": [
    {
     "name": "stdout",
     "output_type": "stream",
     "text": [
      "max_depth = 1 : 0.763681592039801\n",
      "max_depth = 2 : 0.7935323383084577\n",
      "max_depth = 3 : 0.7985074626865671\n",
      "max_depth = 4 : 0.8009950248756219\n",
      "max_depth = 5 : 0.7960199004975125\n",
      "max_depth = 6 : 0.7985074626865671\n",
      "max_depth = 7 : 0.7960199004975125\n",
      "max_depth = 8 : 0.7935323383084577\n",
      "max_depth = 9 : 0.7885572139303483\n",
      "max_depth = 10 : 0.7985074626865671\n",
      "max_depth = 11 : 0.7860696517412935\n",
      "max_depth = 12 : 0.7835820895522388\n",
      "max_depth = 13 : 0.7810945273631841\n",
      "max_depth = 14 : 0.7736318407960199\n"
     ]
    }
   ],
   "source": [
    "# loop to explore the reccommended depth \n",
    "\n",
    "# and his respective accuracy score for decision tree model\n",
    "\n",
    "for depth in range(1, 15):\n",
    "    \n",
    "    model_tree = DecisionTreeClassifier(\n",
    "        \n",
    "        random_state=12345, \n",
    "        \n",
    "        splitter='best', \n",
    "        \n",
    "        max_depth = depth) \n",
    "    \n",
    "    model_tree.fit(features_train, target_train)\n",
    "    \n",
    "    predictions_valid = model_tree.predict(features_valid)  \n",
    "    \n",
    "    print('max_depth =', depth, ': ', end ='')\n",
    "    \n",
    "    print(accuracy_score(target_valid, predictions_valid))"
   ]
  },
  {
   "cell_type": "markdown",
   "id": "a0ae190a",
   "metadata": {},
   "source": [
    "Based on the results, the best depth will be 4th, in any case it would be advisable in our model not to use a depth of more than 10."
   ]
  },
  {
   "cell_type": "code",
   "execution_count": 12,
   "id": "d17722e2",
   "metadata": {},
   "outputs": [
    {
     "name": "stdout",
     "output_type": "stream",
     "text": [
      "Number of trees: 30\n",
      "The best tree depth: 7\n",
      "Accuracy: 0.8208955223880597\n"
     ]
    }
   ],
   "source": [
    "best_model = None\n",
    "\n",
    "best_result = 0\n",
    "\n",
    "best_est = 0\n",
    "\n",
    "best_depth = 0\n",
    "\n",
    "for est in range(10, 51, 10):\n",
    "    \n",
    "    for depth in range(1, 11):\n",
    "        \n",
    "        model_forest = RandomForestClassifier(\n",
    "            \n",
    "            random_state=12345, n_estimators=est, max_depth=depth)\n",
    "        \n",
    "        model_forest.fit(features_train, target_train)\n",
    "        \n",
    "        predictions_valid = model_forest.predict(features_valid)\n",
    "        \n",
    "        result = accuracy_score(target_valid, predictions_valid)\n",
    "    \n",
    "        if result > best_result:\n",
    "            \n",
    "            best_model = model_forest\n",
    "            \n",
    "            best_result = result\n",
    "            \n",
    "            best_est = est\n",
    "            \n",
    "            best_depth = depth\n",
    "            \n",
    "print(\"Number of trees:\", best_est)\n",
    "\n",
    "print(\"The best tree depth:\", best_depth)\n",
    "\n",
    "print(\"Accuracy:\", best_result)\n"
   ]
  },
  {
   "cell_type": "markdown",
   "id": "ab5a016c",
   "metadata": {},
   "source": [
    "The random forest model recommends us a depth of 7, the number of trees is 30 and offers us an accuracy of 0.82. Given the results, our best choice would be a random forest model."
   ]
  },
  {
   "cell_type": "markdown",
   "id": "3256acec",
   "metadata": {},
   "source": [
    "# Checking the Model on a Test Sample"
   ]
  },
  {
   "cell_type": "code",
   "execution_count": 13,
   "id": "f4576777",
   "metadata": {},
   "outputs": [
    {
     "name": "stdout",
     "output_type": "stream",
     "text": [
      "Accuracy Random Forest: 0.7985074626865671\n"
     ]
    }
   ],
   "source": [
    "predictions_test_forest = model_forest.predict(features_test)\n",
    "\n",
    "accuracy_forest = accuracy_score(target_test, predictions_test_forest)\n",
    "\n",
    "print('Accuracy Random Forest:', accuracy_forest)"
   ]
  },
  {
   "cell_type": "markdown",
   "id": "76b83f2c",
   "metadata": {},
   "source": [
    "When testing random forest models, it behaves similarly to the accuracy obtained at the training stage, so we can say that it is possible to implement this model."
   ]
  },
  {
   "cell_type": "markdown",
   "id": "fb6c6d18",
   "metadata": {},
   "source": [
    "# Checking the Models for Adequacy"
   ]
  },
  {
   "cell_type": "markdown",
   "id": "9323dca1",
   "metadata": {},
   "source": [
    "Let's check the adequacy of the models using Dummy Classifier."
   ]
  },
  {
   "cell_type": "code",
   "execution_count": 15,
   "id": "46736754",
   "metadata": {},
   "outputs": [
    {
     "name": "stdout",
     "output_type": "stream",
     "text": [
      "Accuracy Dummy Classifier: 0.7039800995024875\n",
      "Accuracy Random Forest: 0.7985074626865671\n"
     ]
    }
   ],
   "source": [
    "dummy_class = DummyClassifier(strategy = 'most_frequent', random_state = 12345)\n",
    "\n",
    "dummy_class.fit(features_train, target_train)\n",
    "\n",
    "result = dummy_class.score(features_test, target_test)\n",
    "\n",
    "print('Accuracy Dummy Classifier:', result)\n",
    "\n",
    "print('Accuracy Random Forest:', accuracy_forest)\n"
   ]
  },
  {
   "cell_type": "markdown",
   "id": "f8b603a9",
   "metadata": {},
   "source": [
    "Comparing the two models, we see that the forest model is still the best option that we can use to predict plans."
   ]
  }
 ],
 "metadata": {
  "kernelspec": {
   "display_name": "Python 3 (ipykernel)",
   "language": "python",
   "name": "python3"
  },
  "language_info": {
   "codemirror_mode": {
    "name": "ipython",
    "version": 3
   },
   "file_extension": ".py",
   "mimetype": "text/x-python",
   "name": "python",
   "nbconvert_exporter": "python",
   "pygments_lexer": "ipython3",
   "version": "3.9.7"
  }
 },
 "nbformat": 4,
 "nbformat_minor": 5
}
